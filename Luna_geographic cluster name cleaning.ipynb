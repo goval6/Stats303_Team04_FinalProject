{
 "cells": [
  {
   "cell_type": "raw",
   "id": "33dd6c4c",
   "metadata": {
    "vscode": {
     "languageId": "raw"
    }
   },
   "source": [
    "---\n",
    "title: \"Project Code\"\n",
    "subtitle: Team name\n",
    "author: Author 1, Author 2, Author 3, and Author 4 \n",
    "date: 12/09/2024\n",
    "number-sections: true\n",
    "abstract: _This file contains the code for the project on <>, as part of the STAT303-1-Sec20&21 course in Fall 2024_.\n",
    "format: \n",
    "  html:\n",
    "    toc: true\n",
    "    toc-title: Contents\n",
    "    self-contained: true\n",
    "    font-size: 100%\n",
    "    toc-depth: 4\n",
    "    mainfont: serif\n",
    "jupyter: python3\n",
    "---"
   ]
  },
  {
   "cell_type": "markdown",
   "id": "07f1977d",
   "metadata": {},
   "source": [
    "# Reading Data"
   ]
  },
  {
   "cell_type": "code",
   "execution_count": 13,
   "id": "b8519637",
   "metadata": {},
   "outputs": [],
   "source": [
    "import pandas as pd\n",
    "from shapely.geometry import Point\n",
    "from shapely import wkt\n",
    "import numpy as np"
   ]
  },
  {
   "cell_type": "code",
   "execution_count": 14,
   "id": "8b6dff16",
   "metadata": {},
   "outputs": [],
   "source": [
    "project_data = pd.read_csv('My_CHI._My_Future._Programs_20241113.csv')\n",
    "chi_nei=pd.read_csv('CommAreas_20241114.csv')"
   ]
  },
  {
   "cell_type": "markdown",
   "id": "ff6b5e83",
   "metadata": {},
   "source": [
    "### Data cleaning - Impute Missing geographic cluster (neighborhood name) data\n",
    "*By Luna Xu*"
   ]
  },
  {
   "cell_type": "markdown",
   "id": "b4bc535a",
   "metadata": {},
   "source": [
    "Step 1: inspecting geographic cluters data. how many are missing?"
   ]
  },
  {
   "cell_type": "code",
   "execution_count": 15,
   "id": "6246fecd",
   "metadata": {},
   "outputs": [
    {
     "data": {
      "text/plain": [
       "np.int64(130071)"
      ]
     },
     "execution_count": 15,
     "metadata": {},
     "output_type": "execute_result"
    }
   ],
   "source": [
    "project_data['Geographic Cluster Name'].isnull().sum()"
   ]
  },
  {
   "cell_type": "markdown",
   "id": "b952084b",
   "metadata": {},
   "source": [
    "There are 130071 project entries with missing geographic cluster names"
   ]
  },
  {
   "cell_type": "markdown",
   "id": "bdd2169c",
   "metadata": {},
   "source": [
    "We know that some of the programs are online programs, so it makes sense that don't have a geographic cluster. Let's make online programs's geographic cluster name to be online"
   ]
  },
  {
   "cell_type": "code",
   "execution_count": 16,
   "id": "80b9ae6b",
   "metadata": {},
   "outputs": [],
   "source": [
    "project_data['Geographic Cluster Name'] = project_data.apply(\n",
    "    lambda row: 'online' if row['Meeting Type'] == 'online' and pd.isnull(row['Geographic Cluster Name']) else row['Geographic Cluster Name'],\n",
    "    axis=1\n",
    ")"
   ]
  },
  {
   "cell_type": "code",
   "execution_count": 17,
   "id": "c4f201c8",
   "metadata": {},
   "outputs": [
    {
     "data": {
      "text/plain": [
       "np.int64(121359)"
      ]
     },
     "execution_count": 17,
     "metadata": {},
     "output_type": "execute_result"
    }
   ],
   "source": [
    "project_data['Geographic Cluster Name'].isnull().sum()"
   ]
  },
  {
   "cell_type": "markdown",
   "id": "e42e7c56",
   "metadata": {},
   "source": [
    "Answer: now we see that there 121359 missing values for in-person programs"
   ]
  },
  {
   "cell_type": "markdown",
   "id": "dc65d4a3",
   "metadata": {},
   "source": [
    "Step 2: inspect neighborhood names in Geographic Cluster Name (in the program dataset) & neighborhood names in Commmunity (in the chicago neighborhod boundaries dataset) to see if there are any difference"
   ]
  },
  {
   "cell_type": "code",
   "execution_count": 18,
   "id": "375e9c5d",
   "metadata": {},
   "outputs": [
    {
     "name": "stdout",
     "output_type": "stream",
     "text": [
      "Matches: {'HYDE PARK', 'JEFFERSON PARK', 'NEAR SOUTH SIDE', 'MCKINLEY PARK', 'LINCOLN SQUARE', 'UPTOWN', 'HEGEWISCH', 'RIVERDALE', 'NEW CITY', 'NORTH CENTER', 'GREATER GRAND CROSSING', 'WEST LAWN', 'NORWOOD PARK', 'WASHINGTON PARK', 'MORGAN PARK', 'LAKE VIEW', 'MONTCLARE', 'LOOP', 'WASHINGTON HEIGHTS', 'MOUNT GREENWOOD', 'ENGLEWOOD', 'BRIDGEPORT', 'LOWER WEST SIDE', 'OHARE', 'AVALON PARK', 'FOREST GLEN', 'EAST SIDE', 'SOUTH DEERING', 'SOUTH LAWNDALE', 'DUNNING', 'NORTH LAWNDALE', 'NEAR NORTH SIDE', 'WEST ENGLEWOOD', 'AUBURN GRESHAM', 'CHICAGO LAWN', 'AUSTIN', 'PORTAGE PARK', 'AVONDALE', 'FULLER PARK', 'GRAND BOULEVARD', 'SOUTH SHORE', 'ROSELAND', 'EDISON PARK', 'DOUGLAS', 'IRVING PARK', 'CLEARING', 'SOUTH CHICAGO', 'ARCHER HEIGHTS', 'WEST PULLMAN', 'CALUMET HEIGHTS', 'BRIGHTON PARK', 'ROGERS PARK', 'NEAR WEST SIDE', 'GARFIELD RIDGE', 'KENWOOD', 'EAST GARFIELD PARK', 'CHATHAM', 'WEST RIDGE', 'LOGAN SQUARE', 'BURNSIDE', 'WOODLAWN', 'WEST GARFIELD PARK', 'HERMOSA', 'ASHBURN', 'ARMOUR SQUARE', 'HUMBOLDT PARK', 'BELMONT CRAGIN', 'LINCOLN PARK', 'OAKLAND', 'WEST ELSDON', 'ALBANY PARK', 'NORTH PARK', 'WEST TOWN', 'PULLMAN', 'BEVERLY', 'GAGE PARK', 'EDGEWATER'}\n",
      "Unmatched in project_data: {nan, 'Near South Equity Zone', 'West Equity Zone', 'Englewood Block Group 1', 'North/Central Equity Zone', 'Greater Englewood', 'Bronzeville/South Lakefront', 'Little Village', 'Far South Equity Zone', 'Back of the Yards', 'Greater Roseland', 'online', 'Garfield Park', 'Northwest Equity Zone', 'Southwest Equity Zone'}\n",
      "Unmatched in chi_nei: set()\n"
     ]
    }
   ],
   "source": [
    "project_data_unique = project_data['Geographic Cluster Name'].unique()\n",
    "chi_nei_unique = chi_nei['COMMUNITY'].unique()\n",
    "\n",
    "# Find matches\n",
    "matches = set(project_data_unique).intersection(chi_nei_unique)\n",
    "\n",
    "# Find unmatched values\n",
    "unmatched_project_data = set(project_data_unique) - matches\n",
    "unmatched_chi_nei = set(chi_nei_unique) - matches\n",
    "\n",
    "# Results\n",
    "print(f\"Matches: {matches}\")\n",
    "print(f\"Unmatched in project_data: {unmatched_project_data}\")\n",
    "print(f\"Unmatched in chi_nei: {unmatched_chi_nei}\")"
   ]
  },
  {
   "cell_type": "code",
   "execution_count": 19,
   "id": "601fc0fc",
   "metadata": {},
   "outputs": [],
   "source": [
    "unmatched_geocluster_list = list(unmatched_project_data)"
   ]
  },
  {
   "cell_type": "markdown",
   "id": "568c50b1",
   "metadata": {},
   "source": [
    "As shown above, there are more neighborhood names in project_data geographic cluster name than neighborhood names in chi_nei, Community. By looking at the unmatched neighborhood names in project_data geographic cluster name, we can see that some program uses 'zone' instead of neighborhood names in the geographic cluster name. Since we can't pinpoint how these zone correspond with neighborhood, we need to also find neighborhood name for program that used unmatched neiborhood name. \n",
    "\n",
    "To sum up, for the next step, we want to try to impute neighborhood name for entries that either doesn't have a geographic cluster name or has unmatched geographic cluster name."
   ]
  },
  {
   "cell_type": "markdown",
   "id": "a2f9a60f",
   "metadata": {},
   "source": [
    "#### Match Method: use lattitude longtitude info in project_data entries to match corresponding neighborhood"
   ]
  },
  {
   "cell_type": "markdown",
   "id": "1268c6d5",
   "metadata": {},
   "source": [
    "we can see that in project_data, we have column 'lattitude' and 'longtitude' that tells us where this program is happening. \n",
    "\n",
    "we can also see that in chi_nei, we have a column called 'the_geom' which are multipolygons (sets of longtitude,latitude set) that marks the boundaries of each neighborhood. \n",
    "\n",
    "Thus, my first attempt to impute these missing geographic cluster data is to see if the program's longtitude, lattitude falls in any the_geom. If it does fall in a certain geom, that means, the program is held in that neighborhood. "
   ]
  },
  {
   "cell_type": "markdown",
   "id": "b50f3756",
   "metadata": {},
   "source": [
    "Step 1: We want to extract programs that has both longtitude and latittude, don't have a geographic cluster name or its geographic cluster name is not in the chicago neighborhood name."
   ]
  },
  {
   "cell_type": "code",
   "execution_count": 20,
   "id": "13658c29",
   "metadata": {},
   "outputs": [],
   "source": [
    "project_withlatlong=project_data.loc[\n",
    "    ((project_data['Geographic Cluster Name'].isnull()) | (project_data['Geographic Cluster Name'].isin(unmatched_geocluster_list))) & \n",
    "    (project_data['Latitude'].notnull()) & \n",
    "    (project_data['Longitude'].notnull()),\n",
    "    ['Program ID','Latitude','Longitude']\n",
    "]"
   ]
  },
  {
   "cell_type": "markdown",
   "id": "7ae15f53",
   "metadata": {},
   "source": [
    "Step 2: To see if the longtitude lattitude pair is in the boundary multipolygon, I decided to use shapely library. So, we need to turn longtitude lattitude information into shapely point format"
   ]
  },
  {
   "cell_type": "code",
   "execution_count": 21,
   "id": "4cfc0b95",
   "metadata": {},
   "outputs": [],
   "source": [
    "project_withlatlong['point_geom']=project_withlatlong.apply(\n",
    "    lambda row: Point(row['Longitude'],row['Latitude']),axis=1\n",
    ")"
   ]
  },
  {
   "cell_type": "markdown",
   "id": "06b3b36c",
   "metadata": {},
   "source": [
    "Step 3: we also need to turn multipolygon in chicago neighborhood dataset into shapely format"
   ]
  },
  {
   "cell_type": "code",
   "execution_count": 22,
   "id": "9feb7a7f",
   "metadata": {},
   "outputs": [],
   "source": [
    "chi_nei['shapely_geom']=chi_nei['the_geom'].apply(wkt.loads)"
   ]
  },
  {
   "cell_type": "markdown",
   "id": "94eefca7",
   "metadata": {},
   "source": [
    "Step 4: we want to define a helper function to check if program longtitude,latitude is in any of the multiploygon"
   ]
  },
  {
   "cell_type": "code",
   "execution_count": 23,
   "id": "712f44ce",
   "metadata": {},
   "outputs": [],
   "source": [
    "def match_multiploygon(point,multipolygons):\n",
    "    for muultipolygon in multipolygons:\n",
    "        if muultipolygon.contains(point):\n",
    "            return muultipolygon\n",
    "    return None"
   ]
  },
  {
   "cell_type": "markdown",
   "id": "686be3de",
   "metadata": {},
   "source": [
    "Step 5: for each longtitude-lattitude pair, we try to check if its in any multipolygon (neighborhood)"
   ]
  },
  {
   "cell_type": "code",
   "execution_count": 24,
   "id": "81d09b85",
   "metadata": {},
   "outputs": [],
   "source": [
    "project_withlatlong['shapely_geom']=project_withlatlong['point_geom'].apply(\n",
    "    lambda point: match_multiploygon(point,chi_nei['shapely_geom'])\n",
    ")"
   ]
  },
  {
   "cell_type": "code",
   "execution_count": 25,
   "id": "9e8b10d8",
   "metadata": {},
   "outputs": [],
   "source": [
    "matched_program_neiname = pd.merge(project_withlatlong,chi_nei,how='left')"
   ]
  },
  {
   "cell_type": "code",
   "execution_count": 26,
   "id": "75826ebc",
   "metadata": {},
   "outputs": [],
   "source": [
    "attempt1_result = matched_program_neiname.loc[matched_program_neiname['COMMUNITY'].notnull(),['Program ID','COMMUNITY']]"
   ]
  },
  {
   "cell_type": "code",
   "execution_count": 31,
   "id": "cbff4eeb",
   "metadata": {},
   "outputs": [],
   "source": [
    "project_data = pd.merge(project_data,attempt1_result,on='Program ID',how='left')"
   ]
  },
  {
   "cell_type": "markdown",
   "id": "68f2a04c",
   "metadata": {},
   "source": [
    "Step 6: we fill the geographic cluster name with the neighborhood name we found."
   ]
  },
  {
   "cell_type": "code",
   "execution_count": 32,
   "id": "a43ede09",
   "metadata": {},
   "outputs": [],
   "source": [
    "project_data.loc[\n",
    "    project_data['Geographic Cluster Name'].isnull() & project_data['COMMUNITY'].notnull(),\n",
    "    ['Program ID','Geographic Cluster Name','COMMUNITY']\n",
    "]\n",
    "project_data['Geographic Cluster Name'] = project_data['Geographic Cluster Name'].fillna(project_data['COMMUNITY'])\n"
   ]
  },
  {
   "cell_type": "code",
   "execution_count": 33,
   "id": "289654bd",
   "metadata": {},
   "outputs": [],
   "source": [
    "project_data=project_data.drop(columns=['COMMUNITY'])"
   ]
  },
  {
   "cell_type": "code",
   "execution_count": 34,
   "id": "68dabb24",
   "metadata": {},
   "outputs": [
    {
     "data": {
      "text/plain": [
       "np.int64(996)"
      ]
     },
     "execution_count": 34,
     "metadata": {},
     "output_type": "execute_result"
    }
   ],
   "source": [
    "project_data['Geographic Cluster Name'].isnull().sum()"
   ]
  },
  {
   "cell_type": "markdown",
   "id": "c4b367a6",
   "metadata": {},
   "source": [
    "In this attempt, we successfully make missing geographic cluster name came down to 996 from 121359. We impute 120363 missing values."
   ]
  }
 ],
 "metadata": {
  "kernelspec": {
   "display_name": ".venv",
   "language": "python",
   "name": "python3"
  },
  "language_info": {
   "codemirror_mode": {
    "name": "ipython",
    "version": 3
   },
   "file_extension": ".py",
   "mimetype": "text/x-python",
   "name": "python",
   "nbconvert_exporter": "python",
   "pygments_lexer": "ipython3",
   "version": "3.11.4"
  }
 },
 "nbformat": 4,
 "nbformat_minor": 5
}
