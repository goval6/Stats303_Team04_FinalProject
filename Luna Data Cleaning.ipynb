{
 "cells": [
  {
   "cell_type": "markdown",
   "metadata": {},
   "source": [
    "# Writing"
   ]
  },
  {
   "cell_type": "markdown",
   "metadata": {},
   "source": [
    "After inspecting the \"Geographic Cluster Name\" column in the MCMF dataset, I found that there are 121,359 missing values for in-person programs. Since both analysis 1 and 2 relies heavily on information about the neighborhood programs belong to, I decided to use the geographic information in Community Boundaries dataset and latitude longtitude information in the MCMF dataset to map programs into respective neighborhoods. \n",
    "\n",
    "I first compared the neighborhood names in the MCMF dataset with neighborhood names in the Community Boundaries dataset to see if there are any difference. I found that aside from neighborhood names, some programs in the MCMF dataset used unstandardized names such as \"Far South Equity Zone\" and \"Back of the Yards\", which also need to be mapped. After extracting programs that has both longitude and latittude information and don't have a geographic cluster name or its geographic cluster name is unstandardized, I turned longitude lattitude information into shapely library point format. I also turned the multipolygon in Community Boundaries dataset into shapely format. Next, for each longitude-latitude pair, I checked if it is in any of the multipolygon that represents a neighborhood. \n",
    "\n",
    "After mapping, I reviewed the neighborhoods assigned to programs with unstandardized names. This step was necessary because some programs with unstandardized names lack latitude-longitude data, and I wanted to map them to the same neighborhoods as others with the same unstandardized name. However, upon review, I found that many unstandardized names, such as equity zones, were mapped to different neighborhood names. To avoid inconsistencies—where some equity zones are converted into neighborhood names while others remain unchanged—I decided to create a new column, \"Neighborhood,\" dedicated exclusively to neighborhood names. Programs in equity zones that could not be mapped to a specific neighborhood will be marked as \"NA\" in this column."
   ]
  },
  {
   "cell_type": "markdown",
   "metadata": {},
   "source": [
    "# Code"
   ]
  },
  {
   "cell_type": "code",
   "execution_count": 3,
   "metadata": {},
   "outputs": [
    {
     "name": "stdout",
     "output_type": "stream",
     "text": [
      "Matches: {'NORWOOD PARK', 'EAST SIDE', 'CLEARING', 'WASHINGTON PARK', 'MONTCLARE', 'MORGAN PARK', 'NORTH CENTER', 'MOUNT GREENWOOD', 'NORTH PARK', 'HYDE PARK', 'DUNNING', 'MCKINLEY PARK', 'PULLMAN', 'HEGEWISCH', 'WEST ELSDON', 'OAKLAND', 'WEST ENGLEWOOD', 'SOUTH CHICAGO', 'LAKE VIEW', 'BELMONT CRAGIN', 'DOUGLAS', 'BEVERLY', 'ARMOUR SQUARE', 'JEFFERSON PARK', 'KENWOOD', 'GARFIELD RIDGE', 'EDISON PARK', 'AUSTIN', 'ROSELAND', 'SOUTH SHORE', 'ENGLEWOOD', 'LINCOLN SQUARE', 'IRVING PARK', 'ASHBURN', 'LOOP', 'PORTAGE PARK', 'ARCHER HEIGHTS', 'RIVERDALE', 'BRIDGEPORT', 'OHARE', 'FULLER PARK', 'CALUMET HEIGHTS', 'EAST GARFIELD PARK', 'LOGAN SQUARE', 'WOODLAWN', 'LINCOLN PARK', 'LOWER WEST SIDE', 'BRIGHTON PARK', 'NEW CITY', 'GREATER GRAND CROSSING', 'CHICAGO LAWN', 'NEAR SOUTH SIDE', 'UPTOWN', 'WEST LAWN', 'HERMOSA', 'SOUTH LAWNDALE', 'EDGEWATER', 'HUMBOLDT PARK', 'BURNSIDE', 'GAGE PARK', 'WEST RIDGE', 'WASHINGTON HEIGHTS', 'AVALON PARK', 'WEST GARFIELD PARK', 'FOREST GLEN', 'WEST PULLMAN', 'ALBANY PARK', 'NEAR WEST SIDE', 'AUBURN GRESHAM', 'SOUTH DEERING', 'CHATHAM', 'NEAR NORTH SIDE', 'NORTH LAWNDALE', 'ROGERS PARK', 'AVONDALE', 'GRAND BOULEVARD', 'WEST TOWN'}\n",
      "Unmatched in project_data: {'Northwest Equity Zone', 'Greater Roseland', 'Englewood Block Group 1', 'Southwest Equity Zone', 'Greater Englewood', 'Garfield Park', 'Near South Equity Zone', 'North/Central Equity Zone', 'Little Village', 'Far South Equity Zone', 'West Equity Zone', 'online', 'Back of the Yards', 'Bronzeville/South Lakefront', nan}\n",
      "Unmatched in chi_nei: set()\n",
      "Geographic Cluster Name\n",
      "Back of the Yards              [NEW CITY, NEAR WEST SIDE, NEAR SOUTH SIDE, WE...\n",
      "Bronzeville/South Lakefront    [KENWOOD, HYDE PARK, WOODLAWN, WASHINGTON PARK...\n",
      "Englewood Block Group 1                                              [ENGLEWOOD]\n",
      "Far South Equity Zone          [ROSELAND, MOUNT GREENWOOD, WEST PULLMAN, HEGE...\n",
      "Garfield Park                  [WEST GARFIELD PARK, EAST GARFIELD PARK, LOOP,...\n",
      "Greater Englewood                      [WEST ENGLEWOOD, ENGLEWOOD, CHICAGO LAWN]\n",
      "Greater Roseland               [WEST PULLMAN, ROSELAND, PULLMAN, NEAR SOUTH S...\n",
      "Little Village                 [SOUTH LAWNDALE, NORTH LAWNDALE, IRVING PARK, ...\n",
      "Near South Equity Zone         [DOUGLAS, SOUTH SHORE, OAKLAND, FULLER PARK, K...\n",
      "North/Central Equity Zone      [LOOP, LINCOLN SQUARE, EDGEWATER, NEAR NORTH S...\n",
      "Northwest Equity Zone          [IRVING PARK, BELMONT CRAGIN, NORWOOD PARK, LO...\n",
      "Southwest Equity Zone          [BRIGHTON PARK, GAGE PARK, GARFIELD RIDGE, ASH...\n",
      "West Equity Zone               [HUMBOLDT PARK, AUSTIN, SOUTH LAWNDALE, NEAR W...\n",
      "online                         [WEST PULLMAN, LINCOLN PARK, AVONDALE, EDGEWAT...\n",
      "Name: COMMUNITY, dtype: object\n"
     ]
    }
   ],
   "source": [
    "import pandas as pd\n",
    "from shapely.geometry import Point\n",
    "from shapely import wkt\n",
    "\n",
    "# Reading Data\n",
    "project_data = pd.read_csv('My_CHI._My_Future._Programs_20241113.csv')\n",
    "chi_nei=pd.read_csv('CommAreas_20241114.csv')\n",
    "\n",
    "# Exclude Online Program\n",
    "project_data['Geographic Cluster Name'] = project_data.apply(\n",
    "    lambda row: 'online' if row['Meeting Type'] == 'online' and pd.isnull(row['Geographic Cluster Name']) else row['Geographic Cluster Name'],\n",
    "    axis=1\n",
    ")\n",
    "\n",
    "# Comparing Geographic Cluster Names and neighborhoodNames in Community Boundaries\n",
    "project_data_unique = project_data['Geographic Cluster Name'].unique()\n",
    "chi_nei_unique = chi_nei['COMMUNITY'].unique()\n",
    "matches = set(project_data_unique).intersection(chi_nei_unique)\n",
    "unmatched_project_data = set(project_data_unique) - matches\n",
    "unmatched_chi_nei = set(chi_nei_unique) - matches\n",
    "print(f\"Matches: {matches}\")\n",
    "print(f\"Unmatched in project_data: {unmatched_project_data}\")\n",
    "print(f\"Unmatched in chi_nei: {unmatched_chi_nei}\")\n",
    "\n",
    "# Extracting Programs with No Geographic Cluster Name or Unstandardized Name\n",
    "unmatched_geocluster_list = list(unmatched_project_data)\n",
    "project_withlatlong=project_data.loc[\n",
    "    ((project_data['Geographic Cluster Name'].isnull()) | (project_data['Geographic Cluster Name'].isin(unmatched_geocluster_list))) & \n",
    "    (project_data['Latitude'].notnull()) & \n",
    "    (project_data['Longitude'].notnull()),\n",
    "    ['Program ID','Latitude','Longitude','Geographic Cluster Name']\n",
    "]\n",
    "\n",
    "# Turning data into shapely format & Mapping \n",
    "project_withlatlong['point_geom']=project_withlatlong.apply(\n",
    "    lambda row: Point(row['Longitude'],row['Latitude']),axis=1\n",
    ")\n",
    "chi_nei['shapely_geom']=chi_nei['the_geom'].apply(wkt.loads)\n",
    "def match_multiploygon(point,multipolygons):\n",
    "    for muultipolygon in multipolygons:\n",
    "        if muultipolygon.contains(point):\n",
    "            return muultipolygon\n",
    "    return None\n",
    "project_withlatlong['shapely_geom']=project_withlatlong['point_geom'].apply(\n",
    "    lambda point: match_multiploygon(point,chi_nei['shapely_geom'])\n",
    ")\n",
    "matched_program_neiname = pd.merge(project_withlatlong,chi_nei,how='left')\n",
    "\n",
    "# Checking Unstandardized Name & the Neighborhood They Mapped to\n",
    "print(matched_program_neiname.groupby('Geographic Cluster Name')['COMMUNITY'].unique())\n",
    "\n",
    "# Result\n",
    "attempt1_result = matched_program_neiname.loc[matched_program_neiname['COMMUNITY'].notnull(),['Program ID','COMMUNITY']]\n",
    "project_data = pd.merge(project_data,attempt1_result,on='Program ID',how='left')\n",
    "project_data['Neighborhood'] = project_data.apply(\n",
    "    lambda row: row['COMMUNITY'] if pd.notnull(row['COMMUNITY']) else row['Geographic Cluster Name'],\n",
    "    axis=1\n",
    ")\n",
    "project_data.loc[project_data['Neighborhood'].isin(unmatched_geocluster_list),'Neighborhood']= None\n",
    "project_data.loc[project_data['Geographic Cluster Name']=='online',['Neighborhood']]= 'online'\n",
    "project_data=project_data.drop(columns=['COMMUNITY'])"
   ]
  }
 ],
 "metadata": {
  "kernelspec": {
   "display_name": ".venv",
   "language": "python",
   "name": "python3"
  },
  "language_info": {
   "codemirror_mode": {
    "name": "ipython",
    "version": 3
   },
   "file_extension": ".py",
   "mimetype": "text/x-python",
   "name": "python",
   "nbconvert_exporter": "python",
   "pygments_lexer": "ipython3",
   "version": "3.11.4"
  }
 },
 "nbformat": 4,
 "nbformat_minor": 2
}
